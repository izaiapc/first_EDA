{
 "cells": [
  {
   "cell_type": "code",
   "execution_count": 4,
   "id": "5d52474a-31cd-4823-9205-7eaa08839730",
   "metadata": {},
   "outputs": [
    {
     "name": "stdout",
     "output_type": "stream",
     "text": [
      "Tudo pronto!\n"
     ]
    }
   ],
   "source": [
    "import pandas as pd\n",
    "import numpy as np\n",
    "import matplotlib.pyplot as plt\n",
    "import seaborn as sns\n",
    "print(\"Tudo pronto!\")\n",
    "# Caso vá usar geopandas depois, importe assim:\n",
    "#import geopandas as gpd\n"
   ]
  },
  {
   "cell_type": "code",
   "execution_count": 18,
   "id": "5729d3e1-cc6c-4caa-acfc-67ba05f08e91",
   "metadata": {},
   "outputs": [],
   "source": [
    "df = pd.read_csv('data/piaui.csv',sep=\";\",encoding='utf-8')"
   ]
  },
  {
   "cell_type": "code",
   "execution_count": 24,
   "id": "455be201-ecf4-4d61-9e0f-e5c111bab1b9",
   "metadata": {},
   "outputs": [
    {
     "data": {
      "text/plain": [
       "<bound method NDFrame.describe of    Informações por Cidades e Estados - Instituto Brasileiro de Geografia e Estatística \n",
       "0                                              Piauí                                   \n",
       "1         Governador - RAFAEL TAJRA FONTELES   [2023]                                  \n",
       "2                         Capital - Teresina   [2010]                                  \n",
       "3                               Gentílico - piauiense                                  \n",
       "4         Área Territorial - 251.755,499 km²   [2024]                                  \n",
       "5   População no último censo - 3.271.199 pessoas ...                                  \n",
       "6      Densidade demográfica - 12,99 hab/km²   [2022]                                  \n",
       "7     População estimada - 3.375.646 pessoas   [2024]                                  \n",
       "8   Matrículas no ensino fundamental - 439.111 ma...                                  \n",
       "9   IDH Índice de desenvolvimento humano - 0,69  ...                                  \n",
       "10  Total de receitas brutas realizadas - 22.928.9...                                  \n",
       "11  Total de despesas brutas empenhadas - 20.000.9...                                  \n",
       "12  Rendimento mensal domiciliar per capita - 1.35...                                  \n",
       "13    Total de veículos - 1.527.217 veículos   [2024]                                  \n",
       "14                                            Fontes:                                  \n",
       "15  Área Territorial: Área territorial brasileira ...                                  \n",
       "16  População no último censo: Censo 2022: Populaç...                                  \n",
       "17  Densidade demográfica: Censo 2022: População e...                                  \n",
       "18  População estimada: IBGE, Diretoria de Pesquis...                                  \n",
       "19  IDH Índice de desenvolvimento humano: Program...                                  \n",
       "20  Matrículas no ensino fundamental: INSTITUTO N...                                  \n",
       "21  Total de veículos: Ministério da Infraestrutur...                                  \n",
       "22  Total de receitas brutas realizadas: Siconfi: ...                                  \n",
       "23  Total de despesas brutas empenhadas: Siconfi: ...                                  \n",
       "24  Rendimento mensal domiciliar per capita: IBGE,...                                  >"
      ]
     },
     "execution_count": 24,
     "metadata": {},
     "output_type": "execute_result"
    }
   ],
   "source": [
    "df.describe"
   ]
  }
 ],
 "metadata": {
  "kernelspec": {
   "display_name": "Python 3 (ipykernel)",
   "language": "python",
   "name": "python3"
  },
  "language_info": {
   "codemirror_mode": {
    "name": "ipython",
    "version": 3
   },
   "file_extension": ".py",
   "mimetype": "text/x-python",
   "name": "python",
   "nbconvert_exporter": "python",
   "pygments_lexer": "ipython3",
   "version": "3.13.5"
  }
 },
 "nbformat": 4,
 "nbformat_minor": 5
}
